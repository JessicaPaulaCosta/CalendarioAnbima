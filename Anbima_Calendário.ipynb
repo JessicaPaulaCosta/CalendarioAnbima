{
  "nbformat": 4,
  "nbformat_minor": 0,
  "metadata": {
    "colab": {
      "provenance": []
    },
    "kernelspec": {
      "name": "python3",
      "display_name": "Python 3"
    },
    "language_info": {
      "name": "python"
    }
  },
  "cells": [
    {
      "cell_type": "markdown",
      "source": [
        "## Extração de datas do calendário **Anbima** com Beautifulsoup"
      ],
      "metadata": {
        "id": "tmI2m4G5xxec"
      }
    },
    {
      "cell_type": "markdown",
      "source": [
        "Portal Anbima dos feriados bancários nacionais: https://www.anbima.com.br/feriados/"
      ],
      "metadata": {
        "id": "5B8g5oi67dch"
      }
    },
    {
      "cell_type": "markdown",
      "source": [
        "# Carregando Bibliotecas"
      ],
      "metadata": {
        "id": "56cT83dE1ndA"
      }
    },
    {
      "cell_type": "code",
      "source": [
        "!pip install beautifulsoup4     # version 4"
      ],
      "metadata": {
        "id": "WnhFAqh0h0dG"
      },
      "execution_count": null,
      "outputs": []
    },
    {
      "cell_type": "code",
      "source": [
        "import requests #para realizar as requisições HTML\n",
        "from bs4 import BeautifulSoup\n",
        "import re #trabalhando com expressão regular"
      ],
      "metadata": {
        "id": "uaUeG299h8GU"
      },
      "execution_count": 76,
      "outputs": []
    },
    {
      "cell_type": "code",
      "source": [
        "# Ano de referência calendário\n",
        "ano = [1998,2023,2099]\n",
        "\n",
        "try:\n",
        "  for x in range(0,len(ano)):\n",
        "    # Realizamos uma aquisição e atribuimos a uma váriavel\n",
        "    r = requests.get(\"https://www.anbima.com.br/feriados/fer_nacionais/{}.asp\".format(ano[x]))\n",
        "\n",
        "    # vamos então criar objeto que vai receber o texto do requests e passar o parametro html.parser\n",
        "    site = BeautifulSoup(r.text, 'html.parser')\n",
        "\n",
        "    # get do conteúdo de textos dentro da tag td\n",
        "    datas = site.find_all(\"td\", { \"class\" : \"tabela\" })\n",
        "\n",
        "    dias = []\n",
        "    for contador in range(3,len(datas) -1,3):\n",
        "      dias.append(datas[contador].text)\n",
        "\n",
        "    if dias == []:\n",
        "      print('Data inexistente!')\n",
        "    else:\n",
        "      print('Ano {}: '.format(ano[x]),dias)\n",
        "\n",
        "except:\n",
        "  print('Data não existe ou o site está for do ar')\n"
      ],
      "metadata": {
        "colab": {
          "base_uri": "https://localhost:8080/"
        },
        "id": "ws9tO4rR1sBf",
        "outputId": "414ea669-22e0-4f97-f5c9-00ec03cd21d7"
      },
      "execution_count": 181,
      "outputs": [
        {
          "output_type": "stream",
          "name": "stdout",
          "text": [
            "Data inexistente!\n",
            "Ano 2023:  ['1/1/23', '20/2/23', '21/2/23', '7/4/23', '21/4/23', '1/5/23', '8/6/23', '7/9/23', '12/10/23', '2/11/23', '15/11/23', '25/12/23']\n",
            "Ano 2099:  ['1/1/99', '23/2/99', '24/2/99', '10/4/99', '21/4/99', '1/5/99', '11/6/99', '7/9/99', '12/10/99', '2/11/99', '15/11/99', '25/12/99']\n"
          ]
        }
      ]
    }
  ]
}